{
 "cells": [
  {
   "cell_type": "code",
   "execution_count": null,
   "id": "ae21f151",
   "metadata": {},
   "outputs": [],
   "source": [
    "dashboard_banki_6_ver2"
   ]
  },
  {
   "cell_type": "markdown",
   "id": "d23cc8fd",
   "metadata": {},
   "source": [
    "Набор №1\n",
    "\n",
    "1. Постройте диаграмму, отражающую количество клиентов в зависимости от числа используемых продуктов.\n",
    "2. Добавьте на тот же график индикатор процента ушедших клиентов (уровень оттока среди владельцев данного числа продуктов).\n",
    "3. Добавьте фильтр дашборда по городу."
   ]
  },
  {
   "cell_type": "markdown",
   "id": "1f9b5e8d",
   "metadata": {},
   "source": [
    "https://public.tableau.com/app/profile/regi.vil/viz/01062023/sheet2?publish=yes"
   ]
  }
 ],
 "metadata": {
  "kernelspec": {
   "display_name": "Python 3 (ipykernel)",
   "language": "python",
   "name": "python3"
  },
  "language_info": {
   "codemirror_mode": {
    "name": "ipython",
    "version": 3
   },
   "file_extension": ".py",
   "mimetype": "text/x-python",
   "name": "python",
   "nbconvert_exporter": "python",
   "pygments_lexer": "ipython3",
   "version": "3.9.16"
  },
  "toc": {
   "base_numbering": 1,
   "nav_menu": {},
   "number_sections": true,
   "sideBar": true,
   "skip_h1_title": false,
   "title_cell": "Table of Contents",
   "title_sidebar": "Contents",
   "toc_cell": false,
   "toc_position": {},
   "toc_section_display": true,
   "toc_window_display": false
  }
 },
 "nbformat": 4,
 "nbformat_minor": 5
}
